{
 "cells": [
  {
   "cell_type": "code",
   "execution_count": null,
   "metadata": {},
   "outputs": [],
   "source": [
    "#Apartado 2\n",
    "\n",
    "import cv2\n",
    "import numpy as np\n",
    "\n",
    "file_path = 'tráfico01.mp4'\n",
    "video = cv2.VideoCapture(file_path)\n",
    "\n",
    "FOI = video.get(cv2.CAP_PROP_FRAME_COUNT) * np.random.uniform(size=30)\n",
    "\n",
    "frames = []\n",
    "for frameOI in FOI:\n",
    "    video.set(cv2.CAP_PROP_POS_FRAMES, frameOI)\n",
    "    ret, frame = video.read()\n",
    "    frame = cv2.resize(frame, (1600, 900))\n",
    "    frames.append(frame)\n",
    "\n",
    "result2 = np.median(frames, axis=0).astype(dtype=np.uint8)\n",
    "cv2.imwrite('sinCoches.jpg', result2)"
   ]
  },
  {
   "cell_type": "code",
   "execution_count": 16,
   "metadata": {},
   "outputs": [],
   "source": [
    "#Apartado 3\n",
    "import cv2 as cv\n",
    "import numpy as np\n",
    "\n",
    "# capture frames from a camera\n",
    "cap = cv.VideoCapture(\"tráfico01.mp4\")\n",
    "# creamos un substractor de fondo\n",
    "subf = cv.bgsegm.createBackgroundSubtractorMOG()\n",
    "kernel = cv.getStructuringElement(cv.MORPH_ELLIPSE, (3,3))\n",
    "# Creamos un contador de coches\n",
    "Contador_de_Coches = 0\n",
    "\n",
    "while True:\n",
    "    # leémos los frames del vídeo\n",
    "    ret, frame = cap.read()\n",
    "    if ret == False: break\n",
    "    # Creamos una copia de una parcela del frame dónde detectaremos los coches\n",
    "    Parcela = frame[367:915, 943:1623]\n",
    "    # Aplicamos el filtro gaussiano para remover el ruido\n",
    "    frame = cv.GaussianBlur(frame, (7,7), 0)\n",
    "    # Aplicamos el substractor de fondo creado previamente a la parcela para operar con él\n",
    "    fgmask = subf.apply(Parcela)\n",
    "    fgmask = cv.morphologyEx(fgmask, cv.MORPH_OPEN, kernel)\n",
    "    # Expandimos el frame\n",
    "    fgmask = cv.dilate(fgmask, None, iterations=2)\n",
    "    # Hallamos los contornos para detectar los coches\n",
    "    contornos,_ = cv.findContours(fgmask, cv.RETR_EXTERNAL, cv.CHAIN_APPROX_SIMPLE)\n",
    "    # Dibujamos una línea en la parcela, que nos ayudará a contar los coches\n",
    "    línea = cv.line(Parcela, (21, 398), (1500, 398), (255,0,0), 1)\n",
    "    for contorno in contornos:\n",
    "        area = cv.contourArea(contorno)\n",
    "        if area > 1800:\n",
    "            x, y, w, h = cv.boundingRect(contorno)\n",
    "            # Creamos un área que marcará a cada coche\n",
    "            cv.rectangle(Parcela, (x,y), (x+w, y+h), (0,255,0), 1)\n",
    "            # Contamos los coches que atraviesen la línea previamente dibujada\n",
    "            if (398 - 7)< y <(398 + 7):\n",
    "                Contador_de_Coches = Contador_de_Coches + 1\n",
    "    # Creamos un rótulo que nos muestre el estado del contrador de coches\n",
    "    cv.putText(frame, 'Contador_de_Coches = ' + str(Contador_de_Coches), (602,142), cv.FONT_HERSHEY_SIMPLEX, 1.2, (255, 0, 255), 3)\n",
    "    # Seleccionamos la parcela sobre la que hemos efectuado la detección de coches y la sustituimos por la del frame original\n",
    "    frame[367:915, 943:1623] = Parcela\n",
    "    cv.imshow('frame', cv.resize(frame, None, fx= .5, fy= .5))\n",
    "    #cv.imshow('fmask', fgmask)\n",
    "    k = cv.waitKey(10) & 0xFF\n",
    "    if k == 27:\n",
    "        break\n",
    "\n",
    "cap.release()\n",
    "cv.destroyAllWindows()"
   ]
  }
 ],
 "metadata": {
  "kernelspec": {
   "display_name": "Python 3.11.0 64-bit",
   "language": "python",
   "name": "python3"
  },
  "language_info": {
   "codemirror_mode": {
    "name": "ipython",
    "version": 3
   },
   "file_extension": ".py",
   "mimetype": "text/x-python",
   "name": "python",
   "nbconvert_exporter": "python",
   "pygments_lexer": "ipython3",
   "version": "3.11.0 (main, Oct 24 2022, 18:26:48) [MSC v.1933 64 bit (AMD64)]"
  },
  "orig_nbformat": 4,
  "vscode": {
   "interpreter": {
    "hash": "44798ed5182fe160b6068a22a61b2b6d2abcbd5973836a3a09f5af069aaff0ab"
   }
  }
 },
 "nbformat": 4,
 "nbformat_minor": 2
}
